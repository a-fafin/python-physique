{
 "cells": [
  {
   "cell_type": "code",
   "execution_count": 1,
   "metadata": {},
   "outputs": [],
   "source": [
    "from ipywidgets import interact, interactive, interact_manual, fixed\n",
    "import matplotlib.pyplot as plt\n",
    "import numpy as np"
   ]
  },
  {
   "cell_type": "code",
   "execution_count": 3,
   "metadata": {},
   "outputs": [
    {
     "name": "stderr",
     "output_type": "stream",
     "text": [
      "Widget Javascript not detected.  It may not be installed or enabled properly.\n"
     ]
    },
    {
     "data": {
      "application/vnd.jupyter.widget-view+json": {
       "model_id": "63b2678a42c5438e9e5fc8721038a59e"
      }
     },
     "metadata": {},
     "output_type": "display_data"
    }
   ],
   "source": [
    "%matplotlib inline\n",
    "\n",
    "def sin(amp,freq,phi,t):\n",
    "    return amp*np.sin(2 * np.pi * freq * t + phi)\n",
    "\n",
    "def plot(amp=1., freq=1., phi=0., lw=2, grid=True):\n",
    "    fig, ax = plt.subplots(1, 1, figsize=(15, 12))\n",
    "    ax.plot(t, sin(amp,freq,phi,t), lw=lw, color=\"blue\")\n",
    "    ax.grid(grid)\n",
    "    ax.set_ylim(-3,3)\n",
    "    plt.show()\n",
    "\n",
    "t = np.linspace(-1., +1., 1000)    \n",
    "\n",
    "interactive_plot=interactive(plot,amp=(0,3,0.1), phi=(-6,6,0.1), freq=(0,20), lw=(0,5))\n",
    "interactive_plot"
   ]
  },
  {
   "cell_type": "code",
   "execution_count": null,
   "metadata": {},
   "outputs": [],
   "source": []
  },
  {
   "cell_type": "code",
   "execution_count": null,
   "metadata": {},
   "outputs": [],
   "source": []
  },
  {
   "cell_type": "code",
   "execution_count": null,
   "metadata": {},
   "outputs": [],
   "source": []
  }
 ],
 "metadata": {
  "kernelspec": {
   "display_name": "Python 3",
   "language": "python",
   "name": "python3"
  },
  "language_info": {
   "codemirror_mode": {
    "name": "ipython",
    "version": 3
   },
   "file_extension": ".py",
   "mimetype": "text/x-python",
   "name": "python",
   "nbconvert_exporter": "python",
   "pygments_lexer": "ipython3",
   "version": "3.8.3"
  }
 },
 "nbformat": 4,
 "nbformat_minor": 4
}
