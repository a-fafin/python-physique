{
 "cells": [
  {
   "cell_type": "code",
   "execution_count": 22,
   "metadata": {
    "collapsed": false
   },
   "outputs": [],
   "source": [
    "%matplotlib inline    # Graphiques affichés dans la feuille notebook"
   ]
  },
  {
   "cell_type": "code",
   "execution_count": 23,
   "metadata": {
    "collapsed": false
   },
   "outputs": [],
   "source": [
    "from __future__ import division, print_function   # si on travaille en python 2.x\n",
    "from codecs import open\n",
    "import numpy as np\n",
    "import pylab as plt"
   ]
  },
  {
   "cell_type": "markdown",
   "metadata": {},
   "source": [
    "# I. Data de l'article Berroir issue d'un fichier CSV"
   ]
  },
  {
   "cell_type": "code",
   "execution_count": 24,
   "metadata": {
    "collapsed": true
   },
   "outputs": [],
   "source": [
    "import pandas as pd"
   ]
  },
  {
   "cell_type": "code",
   "execution_count": 25,
   "metadata": {
    "collapsed": false
   },
   "outputs": [],
   "source": [
    "data = pd.read_csv(\"Data_Berroir.csv\", delimiter=';')\n",
    "X = data['x']\n",
    "Y = data['y']\n",
    "nDOF = len(X)"
   ]
  },
  {
   "cell_type": "code",
   "execution_count": 26,
   "metadata": {
    "collapsed": false
   },
   "outputs": [
    {
     "data": {
      "text/html": [
       "<div>\n",
       "<table border=\"1\" class=\"dataframe\">\n",
       "  <thead>\n",
       "    <tr style=\"text-align: right;\">\n",
       "      <th></th>\n",
       "      <th>x</th>\n",
       "      <th>y</th>\n",
       "    </tr>\n",
       "  </thead>\n",
       "  <tbody>\n",
       "    <tr>\n",
       "      <th>0</th>\n",
       "      <td>0.0</td>\n",
       "      <td>14.79</td>\n",
       "    </tr>\n",
       "    <tr>\n",
       "      <th>1</th>\n",
       "      <td>2.0</td>\n",
       "      <td>33.52</td>\n",
       "    </tr>\n",
       "    <tr>\n",
       "      <th>2</th>\n",
       "      <td>4.0</td>\n",
       "      <td>36.50</td>\n",
       "    </tr>\n",
       "    <tr>\n",
       "      <th>3</th>\n",
       "      <td>6.0</td>\n",
       "      <td>51.88</td>\n",
       "    </tr>\n",
       "    <tr>\n",
       "      <th>4</th>\n",
       "      <td>8.0</td>\n",
       "      <td>63.11</td>\n",
       "    </tr>\n",
       "    <tr>\n",
       "      <th>5</th>\n",
       "      <td>10.0</td>\n",
       "      <td>66.94</td>\n",
       "    </tr>\n",
       "    <tr>\n",
       "      <th>6</th>\n",
       "      <td>12.0</td>\n",
       "      <td>74.58</td>\n",
       "    </tr>\n",
       "    <tr>\n",
       "      <th>7</th>\n",
       "      <td>14.0</td>\n",
       "      <td>92.46</td>\n",
       "    </tr>\n",
       "    <tr>\n",
       "      <th>8</th>\n",
       "      <td>16.0</td>\n",
       "      <td>89.50</td>\n",
       "    </tr>\n",
       "    <tr>\n",
       "      <th>9</th>\n",
       "      <td>18.0</td>\n",
       "      <td>109.29</td>\n",
       "    </tr>\n",
       "    <tr>\n",
       "      <th>10</th>\n",
       "      <td>20.0</td>\n",
       "      <td>117.40</td>\n",
       "    </tr>\n",
       "    <tr>\n",
       "      <th>11</th>\n",
       "      <td>22.0</td>\n",
       "      <td>118.37</td>\n",
       "    </tr>\n",
       "  </tbody>\n",
       "</table>\n",
       "</div>"
      ],
      "text/plain": [
       "       x       y\n",
       "0    0.0   14.79\n",
       "1    2.0   33.52\n",
       "2    4.0   36.50\n",
       "3    6.0   51.88\n",
       "4    8.0   63.11\n",
       "5   10.0   66.94\n",
       "6   12.0   74.58\n",
       "7   14.0   92.46\n",
       "8   16.0   89.50\n",
       "9   18.0  109.29\n",
       "10  20.0  117.40\n",
       "11  22.0  118.37"
      ]
     },
     "execution_count": 26,
     "metadata": {},
     "output_type": "execute_result"
    }
   ],
   "source": [
    "data"
   ]
  },
  {
   "cell_type": "markdown",
   "metadata": {
    "collapsed": true
   },
   "source": [
    "# II. Création des Fits"
   ]
  },
  {
   "cell_type": "markdown",
   "metadata": {},
   "source": [
    "On vérifie sur les exemples suivants la prise en compte des incertitudes des points sur les résultats des régressions (linéaires ici)"
   ]
  },
  {
   "cell_type": "code",
   "execution_count": 27,
   "metadata": {
    "collapsed": true
   },
   "outputs": [],
   "source": [
    "from scipy.optimize import curve_fit"
   ]
  },
  {
   "cell_type": "code",
   "execution_count": 28,
   "metadata": {
    "collapsed": true
   },
   "outputs": [],
   "source": [
    "def flin(x,a,b):\n",
    "    return a*x+b"
   ]
  },
  {
   "cell_type": "markdown",
   "metadata": {},
   "source": [
    "## 1. Fit sans incertitude"
   ]
  },
  {
   "cell_type": "markdown",
   "metadata": {},
   "source": [
    "On consière que les points n'ont pas d'incertitude en Y"
   ]
  },
  {
   "cell_type": "code",
   "execution_count": 29,
   "metadata": {
    "collapsed": false
   },
   "outputs": [
    {
     "name": "stdout",
     "output_type": "stream",
     "text": [
      "pente = 4.699 +/- 0.199\n",
      "ordonnée origine = 20.68 +/- 2.59\n",
      "chi2 = 227\n",
      "chi2_red = 22.7\n"
     ]
    }
   ],
   "source": [
    "p, covm = curve_fit(flin, X, Y)\n",
    "a,b = p\n",
    "yth = flin(X, a, b)\n",
    "chi2 = sum(((yth - Y))**2)\n",
    "chi2_red = chi2/(nDOF - 2) \n",
    "erra, errb = np.sqrt(np.diag(covm))\n",
    "print(\"pente = %.3f +/- %.3f\"  %(a, erra))\n",
    "print(\"ordonnée origine = %.2f +/- %.2f\" %(b, errb))\n",
    "print(\"chi2 = %.0f\" % chi2)\n",
    "print(\"chi2_red = %.1f\" % chi2_red)"
   ]
  },
  {
   "cell_type": "code",
   "execution_count": 30,
   "metadata": {
    "collapsed": false
   },
   "outputs": [
    {
     "data": {
      "text/plain": [
       "<matplotlib.legend.Legend at 0xa8f5506c>"
      ]
     },
     "execution_count": 30,
     "metadata": {},
     "output_type": "execute_result"
    },
    {
     "data": {
      "image/png": "[encoded data removed]",
      "text/plain": [
       "<matplotlib.figure.Figure at 0xa8f754cc>"
      ]
     },
     "metadata": {},
     "output_type": "display_data"
    }
   ],
   "source": [
    "fig, ax = plt.subplots(1)\n",
    "ax.plot(X,Y,'o',label=\"data\")\n",
    "ax.plot(X,yth,label=\"fit\")\n",
    "textstr = \"y = a*x + b\\n\\\n",
    "a = %.2f +/- %.2f \\n\\\n",
    "b = %.2f +/- %.2f \\n\\\n",
    "chi2_red = %.1f\"  %(a,erra,b,errb,chi2_red)\n",
    "ax.text(0.05, 0.95, textstr, transform=ax.transAxes, fontsize=12, verticalalignment='top')\n",
    "ax.legend(loc=4)"
   ]
  },
  {
   "cell_type": "markdown",
   "metadata": {
    "collapsed": true
   },
   "source": [
    "## 2. Avec incertitude sigma_exp = 5 (constante)"
   ]
  },
  {
   "cell_type": "code",
   "execution_count": 31,
   "metadata": {
    "collapsed": false
   },
   "outputs": [
    {
     "name": "stdout",
     "output_type": "stream",
     "text": [
      "pente = 4.699 +/- 0.209\n",
      "ordonnée origine = 20.68 +/- 2.72\n",
      "chi2 = 9.08\n",
      "chi2_red = 0.908\n"
     ]
    }
   ],
   "source": [
    "sigma_exp = 5\n",
    "p, covm = curve_fit(flin, X, Y,sigma=sigma_exp)\n",
    "a,b = p\n",
    "yth = flin(X, a, b)\n",
    "chi2 = sum(((yth - Y)/sigma_exp)**2)\n",
    "chi2_red = chi2/(nDOF - 2) \n",
    "erra, errb = np.sqrt(np.diag(covm)/chi2_red)\n",
    "print(\"pente = %.3f +/- %.3f\"  %(a, erra))\n",
    "print(\"ordonnée origine = %.2f +/- %.2f\" %(b, errb))\n",
    "print(\"chi2 = %.2f\" % chi2)\n",
    "print(\"chi2_red = %.3f\" % chi2_red)"
   ]
  },
  {
   "cell_type": "code",
   "execution_count": 32,
   "metadata": {
    "collapsed": false
   },
   "outputs": [
    {
     "data": {
      "text/plain": [
       "<matplotlib.legend.Legend at 0xa8ef530c>"
      ]
     },
     "execution_count": 32,
     "metadata": {},
     "output_type": "execute_result"
    },
    {
     "data": {
      "image/png": "[encoded data removed]",
      "text/plain": [
       "<matplotlib.figure.Figure at 0xa8f9a52c>"
      ]
     },
     "metadata": {},
     "output_type": "display_data"
    }
   ],
   "source": [
    "fig, ax = plt.subplots(1)\n",
    "ax.errorbar(X,Y,sigma_exp,fmt='o',label=\"data\")\n",
    "ax.plot(X,yth,label=\"fit\")\n",
    "textstr = \"y = a*x + b\\n\\\n",
    "a = %.2f +/- %.2f \\n\\\n",
    "b = %.2f +/- %.2f \\n\\\n",
    "chi2_red = %.1f\"  %(a,erra,b,errb,chi2_red)\n",
    "ax.text(0.05, 0.95, textstr, transform=ax.transAxes, fontsize=12, verticalalignment='top')\n",
    "ax.legend(loc=4)"
   ]
  },
  {
   "cell_type": "markdown",
   "metadata": {},
   "source": [
    "## 2. Avec incertitude sigma_exp = 20  (constante)"
   ]
  },
  {
   "cell_type": "code",
   "execution_count": 33,
   "metadata": {
    "collapsed": false
   },
   "outputs": [
    {
     "name": "stdout",
     "output_type": "stream",
     "text": [
      "pente = 4.699 +/- 0.836\n",
      "ordonnée origine = 20.68 +/- 10.86\n",
      "chi2 = 0.57\n",
      "chi2_red = 0.057\n"
     ]
    }
   ],
   "source": [
    "sigma_exp = 20\n",
    "p, covm = curve_fit(flin, X, Y,sigma=sigma_exp)\n",
    "a,b = p\n",
    "yth = flin(X, a, b)\n",
    "chi2 = sum(((yth - Y)/sigma_exp)**2)\n",
    "chi2_red = chi2/(nDOF - 2) \n",
    "erra, errb = np.sqrt(np.diag(covm)/chi2_red)\n",
    "print(\"pente = %.3f +/- %.3f\"  %(a, erra))\n",
    "print(\"ordonnée origine = %.2f +/- %.2f\" %(b, errb))\n",
    "print(\"chi2 = %.2f\" % chi2)\n",
    "print(\"chi2_red = %.3f\" % chi2_red)"
   ]
  },
  {
   "cell_type": "code",
   "execution_count": 34,
   "metadata": {
    "collapsed": false
   },
   "outputs": [
    {
     "data": {
      "text/plain": [
       "<matplotlib.legend.Legend at 0xa8ee574c>"
      ]
     },
     "execution_count": 34,
     "metadata": {},
     "output_type": "execute_result"
    },
    {
     "data": {
      "image/png": "[encoded data removed]",
      "text/plain": [
       "<matplotlib.figure.Figure at 0xa8e777ac>"
      ]
     },
     "metadata": {},
     "output_type": "display_data"
    }
   ],
   "source": [
    "fig, ax = plt.subplots(1)\n",
    "ax.errorbar(X,Y,sigma_exp,fmt='o',label=\"data\")\n",
    "ax.plot(X,yth,label=\"fit\")\n",
    "textstr = \"y = a*x + b\\n\\\n",
    "a = %.2f +/- %.2f \\n\\\n",
    "b = %.2f +/- %.2f \\n\\\n",
    "chi2_red = %.1f\"  %(a,erra,b,errb,chi2_red)\n",
    "ax.text(0.05, 0.95, textstr, transform=ax.transAxes, fontsize=12, verticalalignment='top')\n",
    "ax.legend(loc=4)"
   ]
  },
  {
   "cell_type": "markdown",
   "metadata": {},
   "source": [
    "## 3. Avec une incertitude égale à 10% de y (variable)"
   ]
  },
  {
   "cell_type": "code",
   "execution_count": 35,
   "metadata": {
    "collapsed": false,
    "scrolled": false
   },
   "outputs": [
    {
     "name": "stdout",
     "output_type": "stream",
     "text": [
      "pente = 5.108 +/- 0.237\n",
      "ordonnée origine = 16.38 +/- 1.32\n",
      "chi2 = 9.30\n",
      "chi2_red = 0.930\n"
     ]
    }
   ],
   "source": [
    "sigma_exp = 0.1*Y\n",
    "p, covm = curve_fit(flin, X, Y,sigma=sigma_exp)\n",
    "a,b = p\n",
    "yth = flin(X, a, b)\n",
    "chi2 = sum(((yth - Y)/sigma_exp)**2)\n",
    "chi2_red = chi2/(nDOF - 2) \n",
    "erra, errb = np.sqrt(np.diag(covm)/chi2_red)\n",
    "print(\"pente = %.3f +/- %.3f\"  %(a, erra))\n",
    "print(\"ordonnée origine = %.2f +/- %.2f\" %(b, errb))\n",
    "print(\"chi2 = %.2f\" % chi2)\n",
    "print(\"chi2_red = %.3f\" % chi2_red)"
   ]
  },
  {
   "cell_type": "code",
   "execution_count": 36,
   "metadata": {
    "collapsed": false,
    "scrolled": true
   },
   "outputs": [
    {
     "data": {
      "text/plain": [
       "<matplotlib.legend.Legend at 0xa8e022cc>"
      ]
     },
     "execution_count": 36,
     "metadata": {},
     "output_type": "execute_result"
    },
    {
     "data": {
      "image/png": "[encoded data removed]",
      "text/plain": [
       "<matplotlib.figure.Figure at 0xa8ebcc0c>"
      ]
     },
     "metadata": {},
     "output_type": "display_data"
    }
   ],
   "source": [
    "fig, ax = plt.subplots(1)\n",
    "ax.errorbar(X,Y,sigma_exp,fmt='o',label=\"data\")\n",
    "ax.plot(X,yth,label=\"fit\")\n",
    "textstr = \"y = a*x + b\\n\\\n",
    "a = %.2f +/- %.2f \\n\\\n",
    "b = %.2f +/- %.2f \\n\\\n",
    "chi2_red = %.1f\"  %(a,erra,b,errb,chi2_red)\n",
    "ax.text(0.05, 0.95, textstr, transform=ax.transAxes, fontsize=12, verticalalignment='top')\n",
    "ax.legend(loc=4)\n",
    "#ax.xlim(-1,25)"
   ]
  },
  {
   "cell_type": "code",
   "execution_count": null,
   "metadata": {
    "collapsed": true
   },
   "outputs": [],
   "source": []
  }
 ],
 "metadata": {
  "anaconda-cloud": {},
  "kernelspec": {
   "display_name": "Python [Root]",
   "language": "python",
   "name": "Python [Root]"
  },
  "language_info": {
   "codemirror_mode": {
    "name": "ipython",
    "version": 2
   },
   "file_extension": ".py",
   "mimetype": "text/x-python",
   "name": "python",
   "nbconvert_exporter": "python",
   "pygments_lexer": "ipython2",
   "version": "2.7.11"
  },
  "widgets": {
   "state": {},
   "version": "1.1.0"
  }
 },
 "nbformat": 4,
 "nbformat_minor": 0
}
